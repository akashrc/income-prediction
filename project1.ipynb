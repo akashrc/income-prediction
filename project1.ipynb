{
 "cells": [
  {
   "cell_type": "code",
   "execution_count": 1,
   "metadata": {
    "collapsed": true
   },
   "outputs": [],
   "source": [
    "import pandas as pd\n",
    "import matplotlib\n",
    "from scipy.stats import mode\n",
    "from sklearn.preprocessing import LabelEncoder\n",
    "from sklearn.tree import DecisionTreeClassifier\n",
    "from sklearn.metrics import accuracy_score"
   ]
  },
  {
   "cell_type": "code",
   "execution_count": 4,
   "metadata": {
    "collapsed": true
   },
   "outputs": [],
   "source": [
    "def reading_data():\n",
    "    training_data=pd.read_csv(\"Income_train.csv\")\n",
    "    testing_data=pd.read_csv(\"Income_test.csv\")\n",
    "    return training_data,testing_data"
   ]
  },
  {
   "cell_type": "code",
   "execution_count": 7,
   "metadata": {
    "collapsed": true
   },
   "outputs": [],
   "source": [
    "def preprocessing(train,test):\n",
    "\n",
    "    #type checking\n",
    "    train.dtypes\n",
    "    #describing the continuous variables\n",
    "    train.describe()\n",
    "    #looking the categorical variables\n",
    "    cv =train.dtypes.loc[train.dtypes == 'object'].index\n",
    "    #fetching the unique values of cat \n",
    "    train[cv].apply(lambda x: len(x.unique()))\n",
    "    #count of each category of cat var\n",
    "    train['Race'].value_counts()\n",
    "    #%age of obs in each category\n",
    "    train['Race'].value_counts()/train.shape[0]\n",
    "    train['Native.Country'].value_counts()/train.shape[0]\n",
    "    #cross tabulation for cat-cat var\n",
    "    ct = pd.crosstab(train['Sex'],train['Income.Group'],margins = True)\n",
    "    # print the stacked chart\n",
    "    #% matplotlib inline\n",
    "    ct.iloc[:-1,:-1].plot(kind = 'bar', stacked = True, color = ['red','blue'], grid = False)\n",
    "        #plotting %age\n",
    "    def percConvert(ser):\n",
    "        return ser/float(ser[-1])\n",
    "    ct2 = ct.apply(percConvert,axis = 1)\n",
    "    ct2.iloc[:-1,:-1].plot(kind = 'bar', stacked = True, color = ['red','blue'], grid = False)\n",
    "    #cont var\n",
    "    train.plot('Age','Hours.Per.Week', kind = 'scatter')\n",
    "    #cat-cont var\n",
    "    train.boxplot(column = 'Hours.Per.Week', by = 'Sex')\n",
    "\n",
    "    #missing values\n",
    "    train.apply(lambda x: sum(x.isnull()))\n",
    "    test.apply(lambda x: sum(x.isnull()))\n",
    "\n",
    "    #imputation\n",
    "\n",
    "    mode(train['Workclass']).mode[0]\n",
    "\n",
    "    var_to_impute = ['Workclass','Occupation','Native.Country']\n",
    "    for var in var_to_impute:\n",
    "        train[var].fillna(mode(train[var]).mode[0], inplace = True)\n",
    "        test[var].fillna(mode(test[var]).mode[0], inplace = True)\n",
    "\n",
    "    #outlier treatment\n",
    "    #%matplotlib inline\n",
    "    train.plot('ID','Age', kind = 'scatter')\n",
    "    train.plot('ID','Hours.Per.Week', kind = 'scatter')\n",
    "\n",
    "    #variable transformation\n",
    "    train['Workclass'].value_counts()/train.shape[0]\n",
    "\n",
    "    categories_to_combine = ['State-gov','Self-emp-inc','Federal-gov','Without-pay','Never-worked']\n",
    "\n",
    "    for cat in categories_to_combine:\n",
    "        train['Workclass'].replace({cat:'Others'}, inplace = True)\n",
    "        test['Workclass'].replace({cat:'Others'}, inplace = True)\n",
    "\n",
    "    #similarly run a loop to combine all categorieso f all cv\n",
    "    # removing workplace\n",
    "    cv = cv[1:]\n",
    "    cv\n",
    " \n",
    "    for column in cv:\n",
    "    #determine the categories to combine\n",
    "        frq = train[column].value_counts()/train.shape[0]\n",
    "        categories_to_combine = frq.loc[frq.values < 0.05].index\n",
    "\n",
    "        #loop over all categories and combine them as others\n",
    "        for cat in categories_to_combine:\n",
    "            train[column].replace({cat:'Others'}, inplace = True)\n",
    "            test[column].replace({cat:'Others'}, inplace = True)\n",
    "\n",
    "    return train,test\n",
    "\n",
    "#############################################Function for Modelling ######################################\n",
    "\n",
    "def train_model(train,test):\n",
    "\n",
    "    cat_var1 =train.dtypes.loc[train.dtypes == 'object'].index\n",
    "    le =LabelEncoder()\n",
    "    for var in cat_var1:\n",
    "        train[var] = le.fit_transform(train[var])\n",
    "    cat_var2 =test.dtypes.loc[test.dtypes == 'object'].index\n",
    "    for var in cat_var2:    \n",
    "        test[var] = le.fit_transform(test[var])\n",
    "\n",
    "    depv = 'Income.Group'\n",
    "    indepv = [x for x in train.columns if x not in ['ID',depv]]\n",
    "\n",
    "    model = DecisionTreeClassifier(max_depth = 10, min_samples_leaf = 100, max_features = 'sqrt')\n",
    "\n",
    "    model.fit(train[indepv],train[depv])\n",
    "\n",
    "    pred_train = model.predict(train[indepv])\n",
    "    pred_test = model.predict(test[indepv])\n",
    "    true_value = train[depv]\n",
    "\n",
    "    return true_value, pred_train\n",
    "\n",
    "############################################## Function for Model Evaluation ############################################## \n",
    "\n",
    "def model_evaluation(true,predicted):\n",
    "    print(\"Train Accuracy {:.2%}\".format(accuracy_score(true,predicted)))\n",
    "\n",
    "##############################################Main Function #######################################################\n",
    "def main():\n",
    "    train,test = reading_data()\n",
    "    preprocessing(train,test)\n",
    "    actual_train, predicted_train = train_model(train,test)\n",
    "    model_evaluation(actual_train, predicted_train)\n"
   ]
  },
  {
   "cell_type": "code",
   "execution_count": 8,
   "metadata": {},
   "outputs": [
    {
     "name": "stderr",
     "output_type": "stream",
     "text": [
      "C:\\Users\\akash\\Anaconda3\\lib\\site-packages\\numpy\\core\\fromnumeric.py:57: FutureWarning: reshape is deprecated and will raise in a subsequent release. Please use .values.reshape(...) instead\n",
      "  return getattr(obj, method)(*args, **kwds)\n",
      "C:\\Users\\akash\\Anaconda3\\lib\\site-packages\\scipy\\stats\\stats.py:253: RuntimeWarning: The input array could not be properly checked for nan values. nan values will be ignored.\n",
      "  \"values. nan values will be ignored.\", RuntimeWarning)\n"
     ]
    },
    {
     "name": "stdout",
     "output_type": "stream",
     "text": [
      "Train Accuracy 81.68%\n"
     ]
    }
   ],
   "source": [
    "main()"
   ]
  }
 ],
 "metadata": {
  "kernelspec": {
   "display_name": "Python 3",
   "language": "python",
   "name": "python3"
  },
  "language_info": {
   "codemirror_mode": {
    "name": "ipython",
    "version": 3
   },
   "file_extension": ".py",
   "mimetype": "text/x-python",
   "name": "python",
   "nbconvert_exporter": "python",
   "pygments_lexer": "ipython3",
   "version": "3.6.3"
  }
 },
 "nbformat": 4,
 "nbformat_minor": 2
}
